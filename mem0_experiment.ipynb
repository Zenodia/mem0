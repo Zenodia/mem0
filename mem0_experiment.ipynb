{
 "cells": [
  {
   "cell_type": "code",
   "execution_count": 1,
   "id": "071e5e6d-262c-4f1a-a82a-efb34cdb29e0",
   "metadata": {},
   "outputs": [
    {
     "name": "stdout",
     "output_type": "stream",
     "text": [
      "nvidia/nv-embed-v1\n"
     ]
    }
   ],
   "source": [
    "from mem0 import Memory\n",
    "from langchain_nvidia_ai_endpoints import ChatNVIDIA, NVIDIAEmbeddings, NVIDIARerank\n",
    "import os\n",
    "from dotenv import load_dotenv\n",
    "\n",
    "load_dotenv()\n",
    "\n",
    "\n",
    "\n",
    "config = {\n",
    "    \"llm\": {\n",
    "        \"provider\": \"nvidia\",\n",
    "            \"config\": {\n",
    "                \"model\": \"meta/llama-3.1-405b-instruct\",\n",
    "                \"temperature\": 0.1,\n",
    "                \"max_tokens\": 2080,\n",
    "            }\n",
    "    },\n",
    "    \"embedder\" : {\n",
    "        \"provider\": \"nvidia\",\n",
    "        },\n",
    "    \"vector_store\": {\n",
    "    \"provider\": \"chroma\",\n",
    "    \"config\": {\n",
    "        \"collection_name\": \"test\",\n",
    "        \"path\": \"db\",\n",
    "    }\n",
    "    }\n",
    "}\n",
    "\n",
    "\n",
    "memory = Memory.from_config(config)\n"
   ]
  },
  {
   "cell_type": "code",
   "execution_count": 2,
   "id": "ca68bf00-fd55-4c2d-baa7-ad919f10d4de",
   "metadata": {},
   "outputs": [
    {
     "name": "stderr",
     "output_type": "stream",
     "text": [
      "C:\\Users\\zcharpy\\AppData\\Local\\Temp\\ipykernel_36176\\2898316666.py:2: DeprecationWarning: The current add API output format is deprecated. To use the latest format, set `api_version='v1.1'`. The current format will be removed in mem0ai 1.1.0 and later versions.\n",
      "  result = memory.add(\"Likes to play cricket on weekends\", user_id=\"alice\", metadata={\"category\": \"hobbies\"})\n",
      "WARNING:chromadb.segment.impl.vector.local_persistent_hnsw:Number of requested results 5 is greater than number of elements in index 1, updating n_results = 1\n",
      "WARNING:chromadb.segment.impl.vector.local_persistent_hnsw:Number of requested results 5 is greater than number of elements in index 1, updating n_results = 1\n"
     ]
    },
    {
     "name": "stdout",
     "output_type": "stream",
     "text": [
      "[{'id': '57ad3e8a-17a5-469b-9817-c41dfeebd62c', 'memory': 'Name is Alex', 'event': 'ADD'}, {'id': 'cdb9f4f4-c46b-44fa-8dfb-2ba7979386fe', 'memory': 'Likes to play piano', 'event': 'ADD'}]\n"
     ]
    },
    {
     "name": "stderr",
     "output_type": "stream",
     "text": [
      "C:\\Users\\zcharpy\\AppData\\Local\\Temp\\ipykernel_36176\\2898316666.py:8: DeprecationWarning: The current add API output format is deprecated. To use the latest format, set `api_version='v1.1'`. The current format will be removed in mem0ai 1.1.0 and later versions.\n",
      "  result=memory.add(messages, user_id=\"alice\")\n"
     ]
    }
   ],
   "source": [
    "\n",
    "# For a user\n",
    "result = memory.add(\"Likes to play cricket on weekends\", user_id=\"alice\", metadata={\"category\": \"hobbies\"})\n",
    "\n",
    "messages = [\n",
    "    {\"role\": \"user\", \"content\": \"Hi, I'm Alex. I like to play piano\"},\n",
    "    {\"role\": \"assistant\", \"content\": \"Hello Alex! It's great to know that you enjoy playing cricket on weekends. I'll remember that for future reference.\"}\n",
    " ]\n",
    "result=memory.add(messages, user_id=\"alice\")\n",
    "print(result)\n"
   ]
  },
  {
   "cell_type": "code",
   "execution_count": null,
   "id": "9af729f2-0a85-4055-ac65-80989ce99424",
   "metadata": {},
   "outputs": [],
   "source": []
  },
  {
   "cell_type": "code",
   "execution_count": 8,
   "id": "a35dac08-8ee9-477b-9f78-46f5baa0d00a",
   "metadata": {},
   "outputs": [
    {
     "name": "stderr",
     "output_type": "stream",
     "text": [
      "DEBUG:pymilvus.milvus_client.milvus_client:Created new connection using: 39fe4831d1f84fe388c2c572018eda1f\n",
      "DEBUG:pymilvus.milvus_client.milvus_client:Successfully created collection: test\n"
     ]
    },
    {
     "name": "stdout",
     "output_type": "stream",
     "text": [
      "nvidia/nv-embed-v1\n"
     ]
    },
    {
     "name": "stderr",
     "output_type": "stream",
     "text": [
      "DEBUG:pymilvus.milvus_client.milvus_client:Successfully created an index on collection: test\n"
     ]
    }
   ],
   "source": []
  },
  {
   "cell_type": "code",
   "execution_count": null,
   "id": "f2bf7d54-385c-4438-a332-de4d8679c4da",
   "metadata": {},
   "outputs": [],
   "source": []
  },
  {
   "cell_type": "code",
   "execution_count": null,
   "id": "7cd77c6a-3234-452d-ab7e-4db9ea1c54c7",
   "metadata": {},
   "outputs": [],
   "source": []
  },
  {
   "cell_type": "code",
   "execution_count": null,
   "id": "b7430c98-0d2b-4a63-9447-58bcf4d051ce",
   "metadata": {},
   "outputs": [],
   "source": []
  },
  {
   "cell_type": "markdown",
   "id": "15a9d89b-bc9d-411b-9d89-d085ebe897a0",
   "metadata": {},
   "source": [
    "### default  categories \n",
    "\n",
    "- personal_details\n",
    "- family\n",
    "- professional_details\n",
    "- sports\n",
    "- travel\n",
    "- food\n",
    "- music\n",
    "- health\n",
    "- technology\n",
    "- hobbies\n",
    "- fashion\n",
    "- entertainment\n",
    "- milestones\n",
    "- user_preferences\n",
    "- misc\n"
   ]
  },
  {
   "cell_type": "code",
   "execution_count": 3,
   "id": "3213ecfd-e36d-44d5-9af9-1f36f9cf2763",
   "metadata": {},
   "outputs": [
    {
     "name": "stderr",
     "output_type": "stream",
     "text": [
      "C:\\Users\\zcharpy\\AppData\\Local\\Temp\\ipykernel_36176\\4293368332.py:1: DeprecationWarning: The current add API output format is deprecated. To use the latest format, set `api_version='v1.1'`. The current format will be removed in mem0ai 1.1.0 and later versions.\n",
      "  result = memory.add(\"My name is Morty\", user_id=\"rik\", metadata={\"category\": \"personal_dtails\"})\n",
      "WARNING:chromadb.segment.impl.vector.local_persistent_hnsw:Number of requested results 5 is greater than number of elements in index 4, updating n_results = 4\n",
      "WARNING:chromadb.segment.impl.vector.local_persistent_hnsw:Number of requested results 5 is greater than number of elements in index 4, updating n_results = 4\n",
      "C:\\Users\\zcharpy\\AppData\\Local\\Temp\\ipykernel_36176\\4293368332.py:2: DeprecationWarning: The current add API output format is deprecated. To use the latest format, set `api_version='v1.1'`. The current format will be removed in mem0ai 1.1.0 and later versions.\n",
      "  result = memory.add(\"I have 1 daughter and 2 grandchildren\", user_id=\"rik\", metadata={\"category\": \"family\"})\n",
      "C:\\Users\\zcharpy\\AppData\\Local\\Temp\\ipykernel_36176\\4293368332.py:3: DeprecationWarning: The current add API output format is deprecated. To use the latest format, set `api_version='v1.1'`. The current format will be removed in mem0ai 1.1.0 and later versions.\n",
      "  result = memory.add(\"I am retired scientist\", user_id=\"rik\", metadata={\"category\": \"professional_details\"})\n",
      "C:\\Users\\zcharpy\\AppData\\Local\\Temp\\ipykernel_36176\\4293368332.py:4: DeprecationWarning: The current add API output format is deprecated. To use the latest format, set `api_version='v1.1'`. The current format will be removed in mem0ai 1.1.0 and later versions.\n",
      "  result = memory.add(\"My favorite team is FC Barcelona\", user_id=\"rik\", metadata={\"category\": \"sports\"})\n",
      "C:\\Users\\zcharpy\\AppData\\Local\\Temp\\ipykernel_36176\\4293368332.py:5: DeprecationWarning: The current add API output format is deprecated. To use the latest format, set `api_version='v1.1'`. The current format will be removed in mem0ai 1.1.0 and later versions.\n",
      "  result = memory.add(\"I like rocky road ice cream\", user_id=\"rik\", metadata={\"category\": \"food\"})\n",
      "C:\\Users\\zcharpy\\AppData\\Local\\Temp\\ipykernel_36176\\4293368332.py:6: DeprecationWarning: The current add API output format is deprecated. To use the latest format, set `api_version='v1.1'`. The current format will be removed in mem0ai 1.1.0 and later versions.\n",
      "  result = memory.add(\"My enjoy listen to rock and roll music\", user_id=\"rik\", metadata={\"category\": \"music\"})\n",
      "C:\\Users\\zcharpy\\AppData\\Local\\Temp\\ipykernel_36176\\4293368332.py:7: DeprecationWarning: The current add API output format is deprecated. To use the latest format, set `api_version='v1.1'`. The current format will be removed in mem0ai 1.1.0 and later versions.\n",
      "  result = memory.add(\"I don't have any fashion sense\", user_id=\"rik\", metadata={\"category\": \"fashion\"})\n",
      "C:\\Users\\zcharpy\\AppData\\Local\\Temp\\ipykernel_36176\\4293368332.py:8: DeprecationWarning: The current add API output format is deprecated. To use the latest format, set `api_version='v1.1'`. The current format will be removed in mem0ai 1.1.0 and later versions.\n",
      "  result = memory.add(\"I like to do interstellar travel in my space car\", user_id=\"rik\", metadata={\"category\": \"entertainment\"})\n"
     ]
    }
   ],
   "source": [
    "result = memory.add(\"My name is Morty\", user_id=\"rik\", metadata={\"category\": \"personal_dtails\"})\n",
    "result = memory.add(\"I have 1 daughter and 2 grandchildren\", user_id=\"rik\", metadata={\"category\": \"family\"})\n",
    "result = memory.add(\"I am retired scientist\", user_id=\"rik\", metadata={\"category\": \"professional_details\"})\n",
    "result = memory.add(\"My favorite team is FC Barcelona\", user_id=\"rik\", metadata={\"category\": \"sports\"})\n",
    "result = memory.add(\"I like rocky road ice cream\", user_id=\"rik\", metadata={\"category\": \"food\"})\n",
    "result = memory.add(\"My enjoy listen to rock and roll music\", user_id=\"rik\", metadata={\"category\": \"music\"})\n",
    "result = memory.add(\"I don't have any fashion sense\", user_id=\"rik\", metadata={\"category\": \"fashion\"})\n",
    "result = memory.add(\"I like to do interstellar travel in my space car\", user_id=\"rik\", metadata={\"category\": \"entertainment\"})\n"
   ]
  },
  {
   "cell_type": "code",
   "execution_count": 4,
   "id": "4cd6846a-9db1-43e9-b4d2-a77cbb4a0ea3",
   "metadata": {},
   "outputs": [
    {
     "name": "stderr",
     "output_type": "stream",
     "text": [
      "C:\\Users\\zcharpy\\AppData\\Local\\Temp\\ipykernel_36176\\641792229.py:2: DeprecationWarning: The current get_all API output format is deprecated. To use the latest format, set `api_version='v1.1'`. The current format will be removed in mem0ai 1.1.0 and later versions.\n",
      "  mem_search_output=memory.search(\n"
     ]
    },
    {
     "data": {
      "text/plain": [
       "[{'id': 'a5874704-b982-4547-813d-105ee63d2b89',\n",
       "  'memory': 'Name is Morty',\n",
       "  'hash': 'de87fa73e3d2a2c1ddf271ed643b4945',\n",
       "  'metadata': {'category': 'personal_dtails'},\n",
       "  'score': 0.9302722576429723,\n",
       "  'created_at': '2024-11-26T04:15:24.981154-08:00',\n",
       "  'updated_at': None,\n",
       "  'user_id': 'rik'},\n",
       " {'id': 'cc54e09f-259d-451e-ac4f-62611ee139af',\n",
       "  'memory': 'Has 2 grandchildren',\n",
       "  'hash': 'e6a34e89cbdb06c90742400c1c7798c9',\n",
       "  'metadata': {'category': 'family'},\n",
       "  'score': 1.7430827373716298,\n",
       "  'created_at': '2024-11-26T04:15:33.481988-08:00',\n",
       "  'updated_at': None,\n",
       "  'user_id': 'rik'}]"
      ]
     },
     "execution_count": 4,
     "metadata": {},
     "output_type": "execute_result"
    }
   ],
   "source": [
    "query=\"tell me about Morty's family\"\n",
    "mem_search_output=memory.search(\n",
    "    query=query,\n",
    "    user_id=\"rik\",\n",
    "    limit=2  # Adjust based on needs\n",
    ")\n",
    "mem_search_output"
   ]
  },
  {
   "cell_type": "code",
   "execution_count": null,
   "id": "060d668f-9562-4706-a89c-9899695f9a31",
   "metadata": {},
   "outputs": [],
   "source": []
  },
  {
   "cell_type": "code",
   "execution_count": null,
   "id": "6cf6da08-6b88-4b19-aa68-2cf45602679d",
   "metadata": {},
   "outputs": [],
   "source": []
  },
  {
   "cell_type": "code",
   "execution_count": null,
   "id": "85540f5d-13ec-4d94-9fdf-9d8f8291bbaf",
   "metadata": {},
   "outputs": [],
   "source": []
  },
  {
   "cell_type": "code",
   "execution_count": null,
   "id": "ca8ff329-7f07-4ce7-ba8c-2a8cd35b659e",
   "metadata": {},
   "outputs": [],
   "source": []
  },
  {
   "cell_type": "code",
   "execution_count": null,
   "id": "bd1a0f44-dfd5-49b3-806e-3c2cddfb93a4",
   "metadata": {},
   "outputs": [],
   "source": []
  },
  {
   "cell_type": "code",
   "execution_count": null,
   "id": "8ca036f6-7562-4720-be09-2b0bf9f7d2c4",
   "metadata": {},
   "outputs": [],
   "source": []
  }
 ],
 "metadata": {
  "kernelspec": {
   "display_name": "Python 3 (ipykernel)",
   "language": "python",
   "name": "python3"
  },
  "language_info": {
   "codemirror_mode": {
    "name": "ipython",
    "version": 3
   },
   "file_extension": ".py",
   "mimetype": "text/x-python",
   "name": "python",
   "nbconvert_exporter": "python",
   "pygments_lexer": "ipython3",
   "version": "3.12.7"
  }
 },
 "nbformat": 4,
 "nbformat_minor": 5
}
