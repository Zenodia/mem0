{
 "cells": [
  {
   "cell_type": "code",
   "execution_count": 1,
   "id": "071e5e6d-262c-4f1a-a82a-efb34cdb29e0",
   "metadata": {},
   "outputs": [
    {
     "name": "stdout",
     "output_type": "stream",
     "text": [
      "nvidia/nv-embed-v1\n"
     ]
    }
   ],
   "source": [
    "from mem0 import Memory\n",
    "from langchain_nvidia_ai_endpoints import ChatNVIDIA, NVIDIAEmbeddings, NVIDIARerank\n",
    "import os\n",
    "from dotenv import load_dotenv\n",
    "\n",
    "load_dotenv()\n",
    "\n",
    "\n",
    "\n",
    "config = {\n",
    "    \"llm\": {\n",
    "        \"provider\": \"nvidia\",\n",
    "            \"config\": {\n",
    "                \"model\": \"meta/llama-3.1-405b-instruct\",\n",
    "                \"temperature\": 0.1,\n",
    "                \"max_tokens\": 2080,\n",
    "            }\n",
    "    },\n",
    "    \"embedder\" : {\n",
    "        \"provider\": \"nvidia\",\n",
    "        },\n",
    "    \"vector_store\": {\n",
    "    \"provider\": \"chroma\",\n",
    "    \"config\": {\n",
    "        \"collection_name\": \"test\",\n",
    "        \"path\": \"db\",\n",
    "    }\n",
    "    }\n",
    "}\n",
    "\n",
    "\n",
    "memory = Memory.from_config(config)\n"
   ]
  },
  {
   "cell_type": "code",
   "execution_count": 2,
   "id": "ca68bf00-fd55-4c2d-baa7-ad919f10d4de",
   "metadata": {},
   "outputs": [
    {
     "name": "stderr",
     "output_type": "stream",
     "text": [
      "C:\\Users\\zcharpy\\AppData\\Local\\Temp\\ipykernel_28348\\2898316666.py:2: DeprecationWarning: The current add API output format is deprecated. To use the latest format, set `api_version='v1.1'`. The current format will be removed in mem0ai 1.1.0 and later versions.\n",
      "  result = memory.add(\"Likes to play cricket on weekends\", user_id=\"alice\", metadata={\"category\": \"hobbies\"})\n"
     ]
    },
    {
     "name": "stdout",
     "output_type": "stream",
     "text": [
      "[{'id': 'cdb9f4f4-c46b-44fa-8dfb-2ba7979386fe', 'memory': 'Likes to play piano', 'event': 'DELETE'}, {'id': '873915df-0422-4a8d-88ec-45438640a730', 'memory': 'Likes to play cricket on weekends', 'event': 'DELETE'}, {'id': '57ad3e8a-17a5-469b-9817-c41dfeebd62c', 'memory': 'Name is Alex', 'event': 'DELETE'}]\n"
     ]
    },
    {
     "name": "stderr",
     "output_type": "stream",
     "text": [
      "C:\\Users\\zcharpy\\AppData\\Local\\Temp\\ipykernel_28348\\2898316666.py:8: DeprecationWarning: The current add API output format is deprecated. To use the latest format, set `api_version='v1.1'`. The current format will be removed in mem0ai 1.1.0 and later versions.\n",
      "  result=memory.add(messages, user_id=\"alice\")\n"
     ]
    }
   ],
   "source": [
    "\n",
    "# For a user\n",
    "result = memory.add(\"Likes to play cricket on weekends\", user_id=\"alice\", metadata={\"category\": \"hobbies\"})\n",
    "\n",
    "messages = [\n",
    "    {\"role\": \"user\", \"content\": \"Hi, I'm Alex. I like to play piano\"},\n",
    "    {\"role\": \"assistant\", \"content\": \"Hello Alex! It's great to know that you enjoy playing cricket on weekends. I'll remember that for future reference.\"}\n",
    " ]\n",
    "result=memory.add(messages, user_id=\"alice\")\n",
    "print(result)\n"
   ]
  },
  {
   "cell_type": "markdown",
   "id": "15a9d89b-bc9d-411b-9d89-d085ebe897a0",
   "metadata": {},
   "source": [
    "### default  categories \n",
    "\n",
    "- personal_details\n",
    "- family\n",
    "- professional_details\n",
    "- sports\n",
    "- travel\n",
    "- food\n",
    "- music\n",
    "- health\n",
    "- technology\n",
    "- hobbies\n",
    "- fashion\n",
    "- entertainment\n",
    "- milestones\n",
    "- user_preferences\n",
    "- misc\n"
   ]
  },
  {
   "cell_type": "code",
   "execution_count": 3,
   "id": "3213ecfd-e36d-44d5-9af9-1f36f9cf2763",
   "metadata": {},
   "outputs": [
    {
     "name": "stderr",
     "output_type": "stream",
     "text": [
      "C:\\Users\\zcharpy\\AppData\\Local\\Temp\\ipykernel_28348\\4293368332.py:1: DeprecationWarning: The current add API output format is deprecated. To use the latest format, set `api_version='v1.1'`. The current format will be removed in mem0ai 1.1.0 and later versions.\n",
      "  result = memory.add(\"My name is Morty\", user_id=\"rik\", metadata={\"category\": \"personal_dtails\"})\n",
      "C:\\Users\\zcharpy\\AppData\\Local\\Temp\\ipykernel_28348\\4293368332.py:2: DeprecationWarning: The current add API output format is deprecated. To use the latest format, set `api_version='v1.1'`. The current format will be removed in mem0ai 1.1.0 and later versions.\n",
      "  result = memory.add(\"I have 1 daughter and 2 grandchildren\", user_id=\"rik\", metadata={\"category\": \"family\"})\n",
      "C:\\Users\\zcharpy\\AppData\\Local\\Temp\\ipykernel_28348\\4293368332.py:3: DeprecationWarning: The current add API output format is deprecated. To use the latest format, set `api_version='v1.1'`. The current format will be removed in mem0ai 1.1.0 and later versions.\n",
      "  result = memory.add(\"I am retired scientist\", user_id=\"rik\", metadata={\"category\": \"professional_details\"})\n",
      "C:\\Users\\zcharpy\\AppData\\Local\\Temp\\ipykernel_28348\\4293368332.py:4: DeprecationWarning: The current add API output format is deprecated. To use the latest format, set `api_version='v1.1'`. The current format will be removed in mem0ai 1.1.0 and later versions.\n",
      "  result = memory.add(\"My favorite team is FC Barcelona\", user_id=\"rik\", metadata={\"category\": \"sports\"})\n",
      "C:\\Users\\zcharpy\\AppData\\Local\\Temp\\ipykernel_28348\\4293368332.py:5: DeprecationWarning: The current add API output format is deprecated. To use the latest format, set `api_version='v1.1'`. The current format will be removed in mem0ai 1.1.0 and later versions.\n",
      "  result = memory.add(\"I like rocky road ice cream\", user_id=\"rik\", metadata={\"category\": \"food\"})\n",
      "C:\\Users\\zcharpy\\AppData\\Local\\Temp\\ipykernel_28348\\4293368332.py:6: DeprecationWarning: The current add API output format is deprecated. To use the latest format, set `api_version='v1.1'`. The current format will be removed in mem0ai 1.1.0 and later versions.\n",
      "  result = memory.add(\"My enjoy listen to rock and roll music\", user_id=\"rik\", metadata={\"category\": \"music\"})\n",
      "C:\\Users\\zcharpy\\AppData\\Local\\Temp\\ipykernel_28348\\4293368332.py:7: DeprecationWarning: The current add API output format is deprecated. To use the latest format, set `api_version='v1.1'`. The current format will be removed in mem0ai 1.1.0 and later versions.\n",
      "  result = memory.add(\"I don't have any fashion sense\", user_id=\"rik\", metadata={\"category\": \"fashion\"})\n",
      "C:\\Users\\zcharpy\\AppData\\Local\\Temp\\ipykernel_28348\\4293368332.py:8: DeprecationWarning: The current add API output format is deprecated. To use the latest format, set `api_version='v1.1'`. The current format will be removed in mem0ai 1.1.0 and later versions.\n",
      "  result = memory.add(\"I like to do interstellar travel in my space car\", user_id=\"rik\", metadata={\"category\": \"entertainment\"})\n"
     ]
    }
   ],
   "source": [
    "result = memory.add(\"My name is Morty\", user_id=\"rik\", metadata={\"category\": \"personal_dtails\"})\n",
    "result = memory.add(\"I have 1 daughter and 2 grandchildren\", user_id=\"rik\", metadata={\"category\": \"family\"})\n",
    "result = memory.add(\"I am retired scientist\", user_id=\"rik\", metadata={\"category\": \"professional_details\"})\n",
    "result = memory.add(\"My favorite team is FC Barcelona\", user_id=\"rik\", metadata={\"category\": \"sports\"})\n",
    "result = memory.add(\"I like rocky road ice cream\", user_id=\"rik\", metadata={\"category\": \"food\"})\n",
    "result = memory.add(\"My enjoy listen to rock and roll music\", user_id=\"rik\", metadata={\"category\": \"music\"})\n",
    "result = memory.add(\"I don't have any fashion sense\", user_id=\"rik\", metadata={\"category\": \"fashion\"})\n",
    "result = memory.add(\"I like to do interstellar travel in my space car\", user_id=\"rik\", metadata={\"category\": \"entertainment\"})\n"
   ]
  },
  {
   "cell_type": "code",
   "execution_count": 4,
   "id": "4cd6846a-9db1-43e9-b4d2-a77cbb4a0ea3",
   "metadata": {},
   "outputs": [
    {
     "name": "stderr",
     "output_type": "stream",
     "text": [
      "C:\\Users\\zcharpy\\AppData\\Local\\Temp\\ipykernel_28348\\641792229.py:2: DeprecationWarning: The current get_all API output format is deprecated. To use the latest format, set `api_version='v1.1'`. The current format will be removed in mem0ai 1.1.0 and later versions.\n",
      "  mem_search_output=memory.search(\n"
     ]
    },
    {
     "data": {
      "text/plain": [
       "[{'id': 'a5874704-b982-4547-813d-105ee63d2b89',\n",
       "  'memory': 'Name is Morty',\n",
       "  'hash': 'de87fa73e3d2a2c1ddf271ed643b4945',\n",
       "  'metadata': {'category': 'personal_dtails'},\n",
       "  'score': 0.9302722576429723,\n",
       "  'created_at': '2024-11-26T04:15:24.981154-08:00',\n",
       "  'updated_at': None,\n",
       "  'user_id': 'rik'},\n",
       " {'id': 'cc54e09f-259d-451e-ac4f-62611ee139af',\n",
       "  'memory': 'Has 2 grandchildren',\n",
       "  'hash': 'e6a34e89cbdb06c90742400c1c7798c9',\n",
       "  'metadata': {'category': 'family'},\n",
       "  'score': 1.7430827373716298,\n",
       "  'created_at': '2024-11-26T04:15:33.481988-08:00',\n",
       "  'updated_at': None,\n",
       "  'user_id': 'rik'}]"
      ]
     },
     "execution_count": 4,
     "metadata": {},
     "output_type": "execute_result"
    }
   ],
   "source": [
    "query=\"tell me about Morty's family\"\n",
    "mem_search_output=memory.search(\n",
    "    query=query,\n",
    "    user_id=\"rik\",\n",
    "    limit=2  # Adjust based on needs\n",
    ")\n",
    "mem_search_output"
   ]
  },
  {
   "cell_type": "markdown",
   "id": "bcd68ab3-d5d1-4548-a936-007586e64104",
   "metadata": {},
   "source": [
    "## wrap into chatbot with memory "
   ]
  },
  {
   "cell_type": "code",
   "execution_count": null,
   "id": "41aa1bb4-623a-4c62-984c-1287da64482c",
   "metadata": {},
   "outputs": [],
   "source": []
  },
  {
   "cell_type": "code",
   "execution_count": 13,
   "id": "6cf6da08-6b88-4b19-aa68-2cf45602679d",
   "metadata": {},
   "outputs": [],
   "source": [
    "import os\n",
    "from typing import List, Dict\n",
    "from mem0 import Memory\n",
    "from datetime import datetime\n",
    "class SupportChatbot:\n",
    "    def __init__(self):\n",
    "        # Initialize Mem0 with Anthropic's Claude\n",
    "        self.config = config = {\n",
    "            \"llm\": {\n",
    "                \"provider\": \"nvidia\",\n",
    "                    \"config\": {\n",
    "                        \"model\": \"meta/llama-3.1-405b-instruct\",\n",
    "                        \"temperature\": 0.1,\n",
    "                        \"max_tokens\": 2080,\n",
    "                    }\n",
    "            },\n",
    "            \"embedder\" : {\n",
    "                \"provider\": \"nvidia\",\n",
    "                },\n",
    "            \"vector_store\": {\n",
    "            \"provider\": \"chroma\",\n",
    "            \"config\": {\n",
    "                \"collection_name\": \"test\",\n",
    "                \"path\": \"db\",\n",
    "            }\n",
    "            }\n",
    "        }\n",
    "        self.memory = Memory.from_config(self.config)\n",
    "        self.client = memory.llm\n",
    "\n",
    "        # Define support context\n",
    "        self.system_context = \"\"\"\n",
    "        You are a helpful customer support agent. Use the following guidelines:\n",
    "        - Be polite and professional\n",
    "        - Show empathy for customer issues\n",
    "        - Reference past interactions when relevant\n",
    "        - Maintain consistent information across conversations\n",
    "        - If you're unsure about something, ask for clarification\n",
    "        - Keep track of open issues and follow-ups\n",
    "        \"\"\"\n",
    "\n",
    "    def store_customer_interaction(self,\n",
    "                                 user_id: str,\n",
    "                                 message: str,\n",
    "                                 response: str,\n",
    "                                 metadata: Dict = None):\n",
    "        \"\"\"Store customer interaction in memory.\"\"\"\n",
    "        if metadata is None:\n",
    "            metadata = {}\n",
    "\n",
    "        # Add timestamp to metadata\n",
    "        metadata[\"timestamp\"] = datetime.now().isoformat()\n",
    "\n",
    "        # Format conversation for storage\n",
    "        conversation = [\n",
    "            {\"role\": \"user\", \"content\": message},\n",
    "            {\"role\": \"assistant\", \"content\": response}\n",
    "        ]\n",
    "\n",
    "        # Store in Mem0\n",
    "        self.memory.add(\n",
    "            conversation,\n",
    "            user_id=user_id,\n",
    "            metadata=metadata\n",
    "        )\n",
    "\n",
    "    def get_relevant_history(self, user_id: str, query: str) -> List[Dict]:\n",
    "        \"\"\"Retrieve relevant past interactions.\"\"\"\n",
    "        return self.memory.search(\n",
    "            query=query,\n",
    "            user_id=user_id,\n",
    "            limit=5  # Adjust based on needs\n",
    "        )\n",
    "\n",
    "    def handle_customer_query(self, user_id: str, query: str) -> str:\n",
    "        \"\"\"Process customer query with context from past interactions.\"\"\"\n",
    "\n",
    "        # Get relevant past interactions\n",
    "        relevant_history = self.get_relevant_history(user_id, query)\n",
    "\n",
    "        # Build context from relevant history\n",
    "        context = \"Previous relevant interactions:\\n\"\n",
    "        for memory in relevant_history:\n",
    "            context += f\"Customer: {memory['memory']}\\n\"\n",
    "            context += f\"Support: {memory['memory']}\\n\"\n",
    "            context += \"---\\n\"\n",
    "\n",
    "        # Prepare prompt with context and current query\n",
    "        prompt = f\"\"\"\n",
    "        {self.system_context}\n",
    "\n",
    "        {context}\n",
    "\n",
    "        Current customer query: {query}\n",
    "\n",
    "        Provide a helpful response that takes into account any relevant past interactions.\n",
    "        \"\"\"\n",
    "\n",
    "        # Generate response using Claude\n",
    "        response = self.client.generate_response(\n",
    "            messages=[{\"role\": \"user\", \"content\": prompt}]\n",
    "        )\n",
    "        print(\"##### response \\n\", response)\n",
    "        # Store interaction\n",
    "        self.store_customer_interaction(\n",
    "            user_id=user_id,\n",
    "            message=query,\n",
    "            response=response,\n",
    "            metadata={\"type\": \"support_query\"}\n",
    "        )\n",
    "        \n",
    "        return response"
   ]
  },
  {
   "cell_type": "code",
   "execution_count": 15,
   "id": "85540f5d-13ec-4d94-9fdf-9d8f8291bbaf",
   "metadata": {},
   "outputs": [
    {
     "name": "stdout",
     "output_type": "stream",
     "text": [
      "nvidia/nv-embed-v1\n",
      "Welcome to Customer Support! Type 'exit' to end the conversation.\n"
     ]
    },
    {
     "name": "stdin",
     "output_type": "stream",
     "text": [
      " Hi, my name is Zenodia and I'm having trouble connecting my new smartwatch to the mobile app. It keeps showing a connection error.\n"
     ]
    },
    {
     "name": "stdout",
     "output_type": "stream",
     "text": [
      "Customer: Hi, my name is Zenodia and I'm having trouble connecting my new smartwatch to the mobile app. It keeps showing a connection error.\n"
     ]
    },
    {
     "name": "stderr",
     "output_type": "stream",
     "text": [
      "C:\\Users\\zcharpy\\AppData\\Local\\Temp\\ipykernel_28348\\80001386.py:69: DeprecationWarning: The current get_all API output format is deprecated. To use the latest format, set `api_version='v1.1'`. The current format will be removed in mem0ai 1.1.0 and later versions.\n",
      "  return self.memory.search(\n"
     ]
    },
    {
     "name": "stdout",
     "output_type": "stream",
     "text": [
      "##### response \n",
      " Hi Zenodia, thank you for reaching out to us again. I'm sorry to hear that you're experiencing issues with connecting your new smartwatch to the mobile app. I recall that you had a similar issue in the past, but we were able to resolve it successfully.\n",
      "\n",
      "Before we proceed, I just want to confirm that you've already tried the initial troubleshooting steps we discussed previously, is that correct? If so, I'd like to dive a bit deeper to identify the root cause of the issue this time around.\n",
      "\n",
      "Can you please tell me more about the error message you're seeing on the app? Is it the same error message as before, or is it a different one? Additionally, have you made any changes to your smartwatch or mobile device settings recently that might be contributing to the issue?\n"
     ]
    },
    {
     "name": "stderr",
     "output_type": "stream",
     "text": [
      "C:\\Users\\zcharpy\\AppData\\Local\\Temp\\ipykernel_28348\\80001386.py:61: DeprecationWarning: The current add API output format is deprecated. To use the latest format, set `api_version='v1.1'`. The current format will be removed in mem0ai 1.1.0 and later versions.\n",
      "  self.memory.add(\n"
     ]
    },
    {
     "name": "stdout",
     "output_type": "stream",
     "text": [
      "Support: Hi Zenodia, thank you for reaching out to us again. I'm sorry to hear that you're experiencing issues with connecting your new smartwatch to the mobile app. I recall that you had a similar issue in the past, but we were able to resolve it successfully.\n",
      "\n",
      "Before we proceed, I just want to confirm that you've already tried the initial troubleshooting steps we discussed previously, is that correct? If so, I'd like to dive a bit deeper to identify the root cause of the issue this time around.\n",
      "\n",
      "Can you please tell me more about the error message you're seeing on the app? Is it the same error message as before, or is it a different one? Additionally, have you made any changes to your smartwatch or mobile device settings recently that might be contributing to the issue? \n",
      "\n",
      "\n"
     ]
    },
    {
     "name": "stdin",
     "output_type": "stream",
     "text": [
      " I am pretty sure it is a different one, the batteries does not charge to 100%.\n"
     ]
    },
    {
     "name": "stdout",
     "output_type": "stream",
     "text": [
      "Customer: I am pretty sure it is a different one, the batteries does not charge to 100%.\n"
     ]
    },
    {
     "name": "stderr",
     "output_type": "stream",
     "text": [
      "C:\\Users\\zcharpy\\AppData\\Local\\Temp\\ipykernel_28348\\80001386.py:69: DeprecationWarning: The current get_all API output format is deprecated. To use the latest format, set `api_version='v1.1'`. The current format will be removed in mem0ai 1.1.0 and later versions.\n",
      "  return self.memory.search(\n"
     ]
    },
    {
     "name": "stdout",
     "output_type": "stream",
     "text": [
      "##### response \n",
      " I'm glad to hear that the previous issue with connecting your smartwatch to the mobile app has been resolved. However, I'm sorry to hear that you're now experiencing a new issue with the battery not charging to 100%. I understand how frustrating that can be.\n",
      "\n",
      "Before we dive into troubleshooting, I just want to confirm that this is indeed a different issue from the previous one we resolved. Can you please tell me more about what you're experiencing with the battery? For example, does it stop charging at a certain percentage, or does it not charge at all?\n",
      "\n",
      "Also, I'd like to check if you've tried any troubleshooting steps already. Have you tried restarting the smartwatch or checking the charging cable and port for any damage? \n",
      "\n",
      "Let's work together to get to the bottom of this issue and find a solution for you.\n"
     ]
    },
    {
     "name": "stderr",
     "output_type": "stream",
     "text": [
      "C:\\Users\\zcharpy\\AppData\\Local\\Temp\\ipykernel_28348\\80001386.py:61: DeprecationWarning: The current add API output format is deprecated. To use the latest format, set `api_version='v1.1'`. The current format will be removed in mem0ai 1.1.0 and later versions.\n",
      "  self.memory.add(\n"
     ]
    },
    {
     "name": "stdout",
     "output_type": "stream",
     "text": [
      "Support: I'm glad to hear that the previous issue with connecting your smartwatch to the mobile app has been resolved. However, I'm sorry to hear that you're now experiencing a new issue with the battery not charging to 100%. I understand how frustrating that can be.\n",
      "\n",
      "Before we dive into troubleshooting, I just want to confirm that this is indeed a different issue from the previous one we resolved. Can you please tell me more about what you're experiencing with the battery? For example, does it stop charging at a certain percentage, or does it not charge at all?\n",
      "\n",
      "Also, I'd like to check if you've tried any troubleshooting steps already. Have you tried restarting the smartwatch or checking the charging cable and port for any damage? \n",
      "\n",
      "Let's work together to get to the bottom of this issue and find a solution for you. \n",
      "\n",
      "\n"
     ]
    },
    {
     "name": "stdin",
     "output_type": "stream",
     "text": [
      " I did all the troubleshooting step, should I change the battery to a new one?\n"
     ]
    },
    {
     "name": "stdout",
     "output_type": "stream",
     "text": [
      "Customer: I did all the troubleshooting step, should I change the battery to a new one?\n"
     ]
    },
    {
     "name": "stderr",
     "output_type": "stream",
     "text": [
      "C:\\Users\\zcharpy\\AppData\\Local\\Temp\\ipykernel_28348\\80001386.py:69: DeprecationWarning: The current get_all API output format is deprecated. To use the latest format, set `api_version='v1.1'`. The current format will be removed in mem0ai 1.1.0 and later versions.\n",
      "  return self.memory.search(\n"
     ]
    },
    {
     "name": "stdout",
     "output_type": "stream",
     "text": [
      "##### response \n",
      " Thank you for reaching out to us again. I'm glad to hear that you've already gone through the troubleshooting steps we previously discussed. I've reviewed our past conversations, and I see that you had issues with connecting your smartwatch to the mobile app, which we were able to resolve. Additionally, you mentioned that your smartwatch battery wasn't charging to 100%.\n",
      "\n",
      "Regarding your current question, I'd like to clarify a few things before we consider replacing the battery. Can you please tell me more about the current battery performance? Are you still experiencing issues with it not charging to 100%, or has the problem persisted even after resolving the connection issue with the mobile app?\n",
      "\n",
      "Also, have you noticed any other symptoms, such as rapid battery drain or unusual power consumption patterns? This information will help me better understand the situation and provide a more informed recommendation on whether replacing the battery is the best course of action.\n"
     ]
    },
    {
     "name": "stderr",
     "output_type": "stream",
     "text": [
      "C:\\Users\\zcharpy\\AppData\\Local\\Temp\\ipykernel_28348\\80001386.py:61: DeprecationWarning: The current add API output format is deprecated. To use the latest format, set `api_version='v1.1'`. The current format will be removed in mem0ai 1.1.0 and later versions.\n",
      "  self.memory.add(\n"
     ]
    },
    {
     "name": "stdout",
     "output_type": "stream",
     "text": [
      "Support: Thank you for reaching out to us again. I'm glad to hear that you've already gone through the troubleshooting steps we previously discussed. I've reviewed our past conversations, and I see that you had issues with connecting your smartwatch to the mobile app, which we were able to resolve. Additionally, you mentioned that your smartwatch battery wasn't charging to 100%.\n",
      "\n",
      "Regarding your current question, I'd like to clarify a few things before we consider replacing the battery. Can you please tell me more about the current battery performance? Are you still experiencing issues with it not charging to 100%, or has the problem persisted even after resolving the connection issue with the mobile app?\n",
      "\n",
      "Also, have you noticed any other symptoms, such as rapid battery drain or unusual power consumption patterns? This information will help me better understand the situation and provide a more informed recommendation on whether replacing the battery is the best course of action. \n",
      "\n",
      "\n"
     ]
    },
    {
     "name": "stdin",
     "output_type": "stream",
     "text": [
      " exit\n"
     ]
    },
    {
     "name": "stdout",
     "output_type": "stream",
     "text": [
      "Customer: exit\n",
      "Thank you for using our support service. Goodbye!\n"
     ]
    }
   ],
   "source": [
    "chatbot = SupportChatbot()\n",
    "user_id = \"customer_bot\"\n",
    "print(\"Welcome to Customer Support! Type 'exit' to end the conversation.\")\n",
    "\n",
    "while True:\n",
    "    # Get user input\n",
    "    query = input()\n",
    "    print(\"Customer:\", query)\n",
    "    \n",
    "    # Check if user wants to exit\n",
    "    if query.lower() == 'exit':\n",
    "        print(\"Thank you for using our support service. Goodbye!\")\n",
    "        break\n",
    "    \n",
    "    # Handle the query and print the response\n",
    "    response = chatbot.handle_customer_query(user_id, query)\n",
    "    print(\"Support:\", response, \"\\n\\n\")\n",
    "    "
   ]
  },
  {
   "cell_type": "code",
   "execution_count": 20,
   "id": "ca8ff329-7f07-4ce7-ba8c-2a8cd35b659e",
   "metadata": {},
   "outputs": [
    {
     "name": "stderr",
     "output_type": "stream",
     "text": [
      "C:\\Users\\zcharpy\\AppData\\Local\\Temp\\ipykernel_28348\\80001386.py:69: DeprecationWarning: The current get_all API output format is deprecated. To use the latest format, set `api_version='v1.1'`. The current format will be removed in mem0ai 1.1.0 and later versions.\n",
      "  return self.memory.search(\n"
     ]
    },
    {
     "data": {
      "text/plain": [
       "[{'id': 'b2c41b16-cbe7-44f5-b9a2-c9ea0a2e34d5',\n",
       "  'memory': 'Tried initial troubleshooting steps previously',\n",
       "  'hash': 'c59fa3da346f80d7eabd24b04b8ef056',\n",
       "  'metadata': {'timestamp': '2024-11-26T14:40:20.191234',\n",
       "   'type': 'support_query'},\n",
       "  'score': 1.4778110179304884,\n",
       "  'created_at': '2024-11-26T05:40:39.074220-08:00',\n",
       "  'updated_at': '2024-11-26T05:40:39.064215-08:00',\n",
       "  'user_id': 'customer_bot'},\n",
       " {'id': 'a9d00be7-4497-4033-98f8-06bc2dc7f9fd',\n",
       "  'memory': 'Had previously discussed initial troubleshooting steps',\n",
       "  'hash': '3547d1b0f8602ef0731129c5947af09b',\n",
       "  'metadata': {'timestamp': '2024-11-26T14:42:49.088993',\n",
       "   'type': 'support_query'},\n",
       "  'score': 1.4818143869148983,\n",
       "  'created_at': '2024-11-26T05:43:54.474515-08:00',\n",
       "  'updated_at': '2024-11-26T05:43:54.456077-08:00',\n",
       "  'user_id': 'customer_bot'},\n",
       " {'id': 'e5e27087-20ae-4a86-b682-42c8cce108fb',\n",
       "  'memory': 'Having trouble connecting new smartwatch to mobile app',\n",
       "  'hash': '48f8a6f913bc2ba64ea42b84327a2efa',\n",
       "  'metadata': {'timestamp': '2024-11-26T14:42:49.088993',\n",
       "   'type': 'support_query'},\n",
       "  'score': 1.5217784337884623,\n",
       "  'created_at': '2024-11-26T05:41:17.683233-08:00',\n",
       "  'updated_at': '2024-11-26T05:43:54.456077-08:00',\n",
       "  'user_id': 'customer_bot'},\n",
       " {'id': 'bed32ae4-9f77-4e2b-9a67-376352062bac',\n",
       "  'memory': 'Experienced similar issue in the past',\n",
       "  'hash': 'e786a42d4d85a8756983fcb9737150f1',\n",
       "  'metadata': {'timestamp': '2024-11-26T14:42:49.088993',\n",
       "   'type': 'support_query'},\n",
       "  'score': 1.5584159119996317,\n",
       "  'created_at': '2024-11-26T05:43:54.468157-08:00',\n",
       "  'updated_at': '2024-11-26T05:43:54.456077-08:00',\n",
       "  'user_id': 'customer_bot'},\n",
       " {'id': 'f27cdb0f-e501-4f10-9608-69d7696b6bbf',\n",
       "  'memory': 'Had issues with connecting smartwatch to mobile app',\n",
       "  'hash': 'c42fcd821e9728773f94cde2a1b862d6',\n",
       "  'metadata': {'timestamp': '2024-11-26T14:47:35.547135',\n",
       "   'type': 'support_query'},\n",
       "  'score': 1.5769446941741092,\n",
       "  'created_at': '2024-11-26T05:47:56.089226-08:00',\n",
       "  'updated_at': None,\n",
       "  'user_id': 'customer_bot'}]"
      ]
     },
     "execution_count": 20,
     "metadata": {},
     "output_type": "execute_result"
    }
   ],
   "source": [
    "chatbot.get_relevant_history(user_id = \"customer_bot\",query=\"what trouble did user encountered\")"
   ]
  },
  {
   "cell_type": "code",
   "execution_count": null,
   "id": "bd1a0f44-dfd5-49b3-806e-3c2cddfb93a4",
   "metadata": {},
   "outputs": [],
   "source": []
  },
  {
   "cell_type": "code",
   "execution_count": null,
   "id": "8ca036f6-7562-4720-be09-2b0bf9f7d2c4",
   "metadata": {},
   "outputs": [],
   "source": []
  }
 ],
 "metadata": {
  "kernelspec": {
   "display_name": "Python 3 (ipykernel)",
   "language": "python",
   "name": "python3"
  },
  "language_info": {
   "codemirror_mode": {
    "name": "ipython",
    "version": 3
   },
   "file_extension": ".py",
   "mimetype": "text/x-python",
   "name": "python",
   "nbconvert_exporter": "python",
   "pygments_lexer": "ipython3",
   "version": "3.12.7"
  }
 },
 "nbformat": 4,
 "nbformat_minor": 5
}
